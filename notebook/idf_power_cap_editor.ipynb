{
 "cells": [
  {
   "cell_type": "code",
   "execution_count": null,
   "id": "712d6b53",
   "metadata": {},
   "outputs": [],
   "source": [
    "\"\"\" Install eppy library if needed \"\"\"\n",
    "#pip install eppy"
   ]
  },
  {
   "cell_type": "code",
   "execution_count": null,
   "id": "d342d1a3",
   "metadata": {},
   "outputs": [],
   "source": [
    "\"\"\" \n",
    "Initially there was always error, such as:\n",
    "        make_idd_index() missing 1 required positional argument: 'debug'\n",
    "updating of this library helped to solve the issue \n",
    "    \n",
    "\"\"\"\n",
    "pip install -U decorator    "
   ]
  },
  {
   "cell_type": "code",
   "execution_count": 15,
   "id": "5e737851",
   "metadata": {},
   "outputs": [],
   "source": [
    "from eppy import modeleditor\n",
    "from eppy.modeleditor import IDF\n",
    "# iddfile=\"C:/EnergyPlusV8-9-0/Energy+.idd\" here must be that to *.idd file of installed EnergyPlus on local machine\n",
    "iddfile = \"../data/Energy+.idd\" \n",
    "fname1 = \"../data/DeustoTest.idf\"\n",
    "IDF.setiddname(iddfile)\n",
    "idf1 = IDF(fname1)"
   ]
  },
  {
   "cell_type": "markdown",
   "id": "f0ab9bfc",
   "metadata": {},
   "source": [
    "To access specific object of idf file we basically create the object in python *building* which is the instant of the particular element in the idf file, such as in our case idf1.idfobjects['Building'][0], and this newely created object ve can access all the variables (fields) as it would be the methods of the class.\n"
   ]
  },
  {
   "cell_type": "code",
   "execution_count": 17,
   "id": "3f5832c0",
   "metadata": {},
   "outputs": [
    {
     "name": "stdout",
     "output_type": "stream",
     "text": [
      "[\n",
      "Building,\n",
      "    Testig building change,    !- Name\n",
      "    0,                        !- North Axis\n",
      "    Suburbs,                  !- Terrain\n",
      "    0.04,                     !- Loads Convergence Tolerance Value\n",
      "    0.4,                      !- Temperature Convergence Tolerance Value\n",
      "    FullExterior,             !- Solar Distribution\n",
      "    25,                       !- Maximum Number of Warmup Days\n",
      "    6;                        !- Minimum Number of Warmup Days\n",
      "]\n"
     ]
    }
   ],
   "source": [
    "building = idf1.idfobjects['Building'][0]\n",
    "\n",
    "building.Name = \"Testig building change\"\n",
    "# idf1.printidf() #print the whole idf file\n",
    "print(idf1.idfobjects['Building'])"
   ]
  },
  {
   "cell_type": "markdown",
   "id": "a185729e",
   "metadata": {},
   "source": [
    "**Looping through E+ objects**\n",
    "\n",
    "The export of parameters will be made with the pandas dataframe. After that the each component would be considered as list"
   ]
  },
  {
   "cell_type": "code",
   "execution_count": 63,
   "id": "40f3a679",
   "metadata": {},
   "outputs": [
    {
     "data": {
      "text/html": [
       "<div>\n",
       "<style scoped>\n",
       "    .dataframe tbody tr th:only-of-type {\n",
       "        vertical-align: middle;\n",
       "    }\n",
       "\n",
       "    .dataframe tbody tr th {\n",
       "        vertical-align: top;\n",
       "    }\n",
       "\n",
       "    .dataframe thead th {\n",
       "        text-align: right;\n",
       "    }\n",
       "</style>\n",
       "<table border=\"1\" class=\"dataframe\">\n",
       "  <thead>\n",
       "    <tr style=\"text-align: right;\">\n",
       "      <th></th>\n",
       "      <th>ESCENARIO</th>\n",
       "      <th>Façade</th>\n",
       "      <th>Huecos (Uglass)</th>\n",
       "      <th>Windows (SHGC)</th>\n",
       "      <th>Windows (Transmisión de luz)</th>\n",
       "      <th>Infiltration</th>\n",
       "    </tr>\n",
       "  </thead>\n",
       "  <tbody>\n",
       "    <tr>\n",
       "      <th>0</th>\n",
       "      <td>0,0,0,0</td>\n",
       "      <td>0.000</td>\n",
       "      <td>3.41</td>\n",
       "      <td>0.781</td>\n",
       "      <td>0.801</td>\n",
       "      <td>0.61</td>\n",
       "    </tr>\n",
       "    <tr>\n",
       "      <th>1</th>\n",
       "      <td>1.0.0.0.</td>\n",
       "      <td>0.042</td>\n",
       "      <td>3.42</td>\n",
       "      <td>0.782</td>\n",
       "      <td>0.802</td>\n",
       "      <td>0.62</td>\n",
       "    </tr>\n",
       "    <tr>\n",
       "      <th>2</th>\n",
       "      <td>1.1.1.0.</td>\n",
       "      <td>0.043</td>\n",
       "      <td>3.43</td>\n",
       "      <td>0.693</td>\n",
       "      <td>0.803</td>\n",
       "      <td>0.63</td>\n",
       "    </tr>\n",
       "  </tbody>\n",
       "</table>\n",
       "</div>"
      ],
      "text/plain": [
       "  ESCENARIO  Façade  Huecos (Uglass)  Windows (SHGC)  \\\n",
       "0   0,0,0,0   0.000             3.41           0.781   \n",
       "1  1.0.0.0.   0.042             3.42           0.782   \n",
       "2  1.1.1.0.   0.043             3.43           0.693   \n",
       "\n",
       "   Windows (Transmisión de luz)  Infiltration  \n",
       "0                         0.801          0.61  \n",
       "1                         0.802          0.62  \n",
       "2                         0.803          0.63  "
      ]
     },
     "execution_count": 63,
     "metadata": {},
     "output_type": "execute_result"
    }
   ],
   "source": [
    "import pandas as pd\n",
    "df= pd.read_excel('../data/matrix.xlsx')    \n",
    "df.head()"
   ]
  },
  {
   "cell_type": "markdown",
   "id": "447e7f72",
   "metadata": {},
   "source": [
    "at first we specify exact components that we want to access and change the values"
   ]
  },
  {
   "cell_type": "markdown",
   "id": "8683f66e",
   "metadata": {},
   "source": [
    "Check the length of the elements in the newely created wariable to know which i-th object's variable (i.e. correspondent parameter of the i-th element in a list) must be changed"
   ]
  },
  {
   "cell_type": "code",
   "execution_count": 64,
   "id": "ec4c30c5",
   "metadata": {},
   "outputs": [],
   "source": [
    "#len (materials)\n",
    "len (construction)\n",
    "facade_material = idf1.idfobjects[\"MATERIAL\"][11] # we want tj change EPS Expanded Polystyrene thickness in Facade\n",
    "construction_material = idf1.idfobjects[\"Construction\"][6]#not clear!\n",
    "window_material = idf1.idfobjects['WindowMaterial:SimpleGlazingSystem'][0] # ti change Uvalue, SHGC, Transmisión de luz)"
   ]
  },
  {
   "cell_type": "markdown",
   "id": "72f2c58a",
   "metadata": {},
   "source": [
    "Check the selected element"
   ]
  },
  {
   "cell_type": "code",
   "execution_count": 58,
   "id": "2749d450",
   "metadata": {},
   "outputs": [
    {
     "name": "stdout",
     "output_type": "stream",
     "text": [
      "\n",
      "Material,\n",
      "    EPS Expanded Polystyrene (Standard)_O1234,    !- Name\n",
      "    Rough,                    !- Roughness\n",
      "    0.04,                     !- Thickness\n",
      "    0.04,                     !- Conductivity\n",
      "    15,                       !- Density\n",
      "    1400,                     !- Specific Heat\n",
      "    0.9,                      !- Thermal Absorptance\n",
      "    0.6,                      !- Solar Absorptance\n",
      "    0.6;                      !- Visible Absorptance\n",
      "\n",
      "[\n",
      "WindowMaterial:SimpleGlazingSystem,\n",
      "    Simple 1001,              !- Name\n",
      "    1.96,                     !- UFactor\n",
      "    0.691,                    !- Solar Heat Gain Coefficient\n",
      "    0.744;                    !- Visible Transmittance\n",
      "]\n"
     ]
    }
   ],
   "source": [
    "print (facade_material)\n",
    "print (window_material)"
   ]
  },
  {
   "cell_type": "markdown",
   "id": "e6201dcb",
   "metadata": {},
   "source": [
    "Iteration"
   ]
  },
  {
   "cell_type": "code",
   "execution_count": 65,
   "id": "57e7c65b",
   "metadata": {},
   "outputs": [
    {
     "name": "stdout",
     "output_type": "stream",
     "text": [
      "\n",
      "Material,\n",
      "    EPS Expanded Polystyrene (Standard)_O1234,    !- Name\n",
      "    Rough,                    !- Roughness\n",
      "    0,                        !- Thickness\n",
      "    0.04,                     !- Conductivity\n",
      "    15,                       !- Density\n",
      "    1400,                     !- Specific Heat\n",
      "    0.9,                      !- Thermal Absorptance\n",
      "    0.6,                      !- Solar Absorptance\n",
      "    0.6;                      !- Visible Absorptance\n",
      "\n",
      "\n",
      "Material,\n",
      "    EPS Expanded Polystyrene (Standard)_O1234,    !- Name\n",
      "    Rough,                    !- Roughness\n",
      "    0.042,                    !- Thickness\n",
      "    0.04,                     !- Conductivity\n",
      "    15,                       !- Density\n",
      "    1400,                     !- Specific Heat\n",
      "    0.9,                      !- Thermal Absorptance\n",
      "    0.6,                      !- Solar Absorptance\n",
      "    0.6;                      !- Visible Absorptance\n",
      "\n",
      "\n",
      "Material,\n",
      "    EPS Expanded Polystyrene (Standard)_O1234,    !- Name\n",
      "    Rough,                    !- Roughness\n",
      "    0.043,                    !- Thickness\n",
      "    0.04,                     !- Conductivity\n",
      "    15,                       !- Density\n",
      "    1400,                     !- Specific Heat\n",
      "    0.9,                      !- Thermal Absorptance\n",
      "    0.6,                      !- Solar Absorptance\n",
      "    0.6;                      !- Visible Absorptance\n",
      "\n"
     ]
    }
   ],
   "source": [
    "for i in df['Façade']:\n",
    "    facade_material.Thickness=i\n",
    "    print (facade_material)\n",
    "#[facade_material.Thickness=i for i in df['Façade']]"
   ]
  },
  {
   "cell_type": "markdown",
   "id": "da750711",
   "metadata": {},
   "source": [
    "How to iterate through an oblect and change necesarry parameters in one iteration (i.e. correspondednt raw of the Dataframe table inserted into the proper name of the parameter)"
   ]
  },
  {
   "cell_type": "code",
   "execution_count": 67,
   "id": "ebdab129",
   "metadata": {},
   "outputs": [
    {
     "name": "stdout",
     "output_type": "stream",
     "text": [
      "\n",
      "WindowMaterial:SimpleGlazingSystem,\n",
      "    Simple 1001,              !- Name\n",
      "    3.41,                     !- UFactor\n",
      "    0.781,                    !- Solar Heat Gain Coefficient\n",
      "    0.801;                    !- Visible Transmittance\n",
      "\n",
      "\n",
      "WindowMaterial:SimpleGlazingSystem,\n",
      "    Simple 1001,              !- Name\n",
      "    3.42,                     !- UFactor\n",
      "    0.782,                    !- Solar Heat Gain Coefficient\n",
      "    0.802;                    !- Visible Transmittance\n",
      "\n",
      "\n",
      "WindowMaterial:SimpleGlazingSystem,\n",
      "    Simple 1001,              !- Name\n",
      "    3.43,                     !- UFactor\n",
      "    0.693,                    !- Solar Heat Gain Coefficient\n",
      "    0.803;                    !- Visible Transmittance\n",
      "\n"
     ]
    }
   ],
   "source": [
    "for index, row in df.iterrows():\n",
    "    window_material.UFactor= row['Huecos (Uglass)']\n",
    "    window_material.Solar_Heat_Gain_Coefficient = row['Windows (SHGC)']\n",
    "    window_material.Visible_Transmittance = row['Windows (Transmisión de luz)']\n",
    "    print (window_material)"
   ]
  },
  {
   "cell_type": "markdown",
   "id": "3dba4038",
   "metadata": {},
   "source": [
    "**Mid term conclusion: Optimization of looping must be DONE!!!**\n",
    "\n",
    "TO BE CONTINUED ..."
   ]
  },
  {
   "cell_type": "code",
   "execution_count": null,
   "id": "e66f7044",
   "metadata": {},
   "outputs": [],
   "source": []
  }
 ],
 "metadata": {
  "kernelspec": {
   "display_name": "Python 3",
   "language": "python",
   "name": "python3"
  },
  "language_info": {
   "codemirror_mode": {
    "name": "ipython",
    "version": 3
   },
   "file_extension": ".py",
   "mimetype": "text/x-python",
   "name": "python",
   "nbconvert_exporter": "python",
   "pygments_lexer": "ipython3",
   "version": "3.8.8"
  }
 },
 "nbformat": 4,
 "nbformat_minor": 5
}
