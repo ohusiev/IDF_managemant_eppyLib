{
 "cells": [
  {
   "cell_type": "code",
   "execution_count": null,
   "id": "712d6b53",
   "metadata": {},
   "outputs": [],
   "source": [
    "\"\"\" Install eppy library if needed \"\"\"\n",
    "#pip install eppy"
   ]
  },
  {
   "cell_type": "code",
   "execution_count": null,
   "id": "d342d1a3",
   "metadata": {},
   "outputs": [],
   "source": [
    "\"\"\" \n",
    "Initially there was always error, such as:\n",
    "        make_idd_index() missing 1 required positional argument: 'debug'\n",
    "updating of this library helped to solve the issue \n",
    "    \n",
    "\"\"\"\n",
    "pip install -U decorator    "
   ]
  },
  {
   "cell_type": "code",
   "execution_count": 1,
   "id": "5e737851",
   "metadata": {},
   "outputs": [
    {
     "name": "stdout",
     "output_type": "stream",
     "text": [
      "[\n",
      "Building,\n",
      "    Testig building change,    !- Name\n",
      "    0,                        !- North Axis\n",
      "    Suburbs,                  !- Terrain\n",
      "    0.04,                     !- Loads Convergence Tolerance Value\n",
      "    0.4,                      !- Temperature Convergence Tolerance Value\n",
      "    FullExterior,             !- Solar Distribution\n",
      "    25,                       !- Maximum Number of Warmup Days\n",
      "    6;                        !- Minimum Number of Warmup Days\n",
      "]\n"
     ]
    }
   ],
   "source": [
    "from eppy import modeleditor\n",
    "from eppy.modeleditor import IDF\n",
    "iddfile = \"C:/EnergyPlusV8-9-0/Energy+.idd\"\n",
    "fname1 = \"../data/DeustoTest.idf\"\n",
    "IDF.setiddname(iddfile)\n",
    "idf1 = IDF(fname1)\n",
    "\n",
    "building = idf1.idfobjects['Building'][0]\n",
    "\n",
    "building.Name = \"Testig building change\"\n",
    "print (idf1.idfobjects['Building'])"
   ]
  }
 ],
 "metadata": {
  "kernelspec": {
   "display_name": "Python 3",
   "language": "python",
   "name": "python3"
  },
  "language_info": {
   "codemirror_mode": {
    "name": "ipython",
    "version": 3
   },
   "file_extension": ".py",
   "mimetype": "text/x-python",
   "name": "python",
   "nbconvert_exporter": "python",
   "pygments_lexer": "ipython3",
   "version": "3.8.8"
  }
 },
 "nbformat": 4,
 "nbformat_minor": 5
}
