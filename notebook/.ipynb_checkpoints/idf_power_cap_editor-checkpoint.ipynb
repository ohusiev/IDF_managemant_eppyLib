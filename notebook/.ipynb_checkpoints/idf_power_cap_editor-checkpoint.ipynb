{
 "cells": [
  {
   "cell_type": "code",
   "execution_count": 1,
   "id": "712d6b53",
   "metadata": {},
   "outputs": [
    {
     "data": {
      "text/plain": [
       "' Install eppy library if needed '"
      ]
     },
     "execution_count": 1,
     "metadata": {},
     "output_type": "execute_result"
    }
   ],
   "source": [
    "\"\"\" Install eppy library if needed \"\"\"\n",
    "#pip install eppy"
   ]
  },
  {
   "cell_type": "code",
   "execution_count": 2,
   "id": "d342d1a3",
   "metadata": {},
   "outputs": [
    {
     "ename": "SyntaxError",
     "evalue": "invalid syntax (<ipython-input-2-0fe8b4388f99>, line 7)",
     "output_type": "error",
     "traceback": [
      "\u001b[1;36m  File \u001b[1;32m\"<ipython-input-2-0fe8b4388f99>\"\u001b[1;36m, line \u001b[1;32m7\u001b[0m\n\u001b[1;33m    pip install -U decorator\u001b[0m\n\u001b[1;37m        ^\u001b[0m\n\u001b[1;31mSyntaxError\u001b[0m\u001b[1;31m:\u001b[0m invalid syntax\n"
     ]
    }
   ],
   "source": [
    "\"\"\" \n",
    "Initially there was always error, such as:\n",
    "        make_idd_index() missing 1 required positional argument: 'debug'\n",
    "updating of this library helped to solve the issue \n",
    "    \n",
    "\"\"\"\n",
    "pip install -U decorator    "
   ]
  },
  {
   "cell_type": "code",
   "execution_count": 3,
   "id": "5e737851",
   "metadata": {},
   "outputs": [],
   "source": [
    "from eppy import modeleditor\n",
    "from eppy.modeleditor import IDF\n",
    "# iddfile=\"C:/EnergyPlusV8-9-0/Energy+.idd\" here must be path to *.idd file of installed EnergyPlus engine on local machine\n",
    "iddfile = \"../data/Energy+.idd\" \n",
    "fname1 = \"../data/DeustoTest.idf\"\n",
    "IDF.setiddname(iddfile)\n",
    "idf1 = IDF(fname1)"
   ]
  },
  {
   "cell_type": "markdown",
   "id": "f0ab9bfc",
   "metadata": {},
   "source": [
    "To access specific object of idf file we basically create the object in python *building* which is the instant of the particular element in the idf file, such as in our case idf1.idfobjects['Building'][0], and this newely created object ve can access all the variables (fields) as it would be the methods of the class.\n"
   ]
  },
  {
   "cell_type": "code",
   "execution_count": 4,
   "id": "3f5832c0",
   "metadata": {},
   "outputs": [
    {
     "name": "stdout",
     "output_type": "stream",
     "text": [
      "[\n",
      "Building,\n",
      "    Testig building change,    !- Name\n",
      "    0,                        !- North Axis\n",
      "    Suburbs,                  !- Terrain\n",
      "    0.04,                     !- Loads Convergence Tolerance Value\n",
      "    0.4,                      !- Temperature Convergence Tolerance Value\n",
      "    FullExterior,             !- Solar Distribution\n",
      "    25,                       !- Maximum Number of Warmup Days\n",
      "    6;                        !- Minimum Number of Warmup Days\n",
      "]\n"
     ]
    }
   ],
   "source": [
    "building = idf1.idfobjects['Building'][0]\n",
    "\n",
    "building.Name = \"Testig building change\"\n",
    "# idf1.printidf() #print the whole idf file\n",
    "print(idf1.idfobjects['Building'])"
   ]
  },
  {
   "cell_type": "markdown",
   "id": "a185729e",
   "metadata": {},
   "source": [
    "**Looping through E+ objects**\n",
    "\n",
    "The export of parameters will be made with the pandas dataframe"
   ]
  },
  {
   "cell_type": "code",
   "execution_count": 5,
   "id": "40f3a679",
   "metadata": {},
   "outputs": [
    {
     "data": {
      "text/html": [
       "<div>\n",
       "<style scoped>\n",
       "    .dataframe tbody tr th:only-of-type {\n",
       "        vertical-align: middle;\n",
       "    }\n",
       "\n",
       "    .dataframe tbody tr th {\n",
       "        vertical-align: top;\n",
       "    }\n",
       "\n",
       "    .dataframe thead th {\n",
       "        text-align: right;\n",
       "    }\n",
       "</style>\n",
       "<table border=\"1\" class=\"dataframe\">\n",
       "  <thead>\n",
       "    <tr style=\"text-align: right;\">\n",
       "      <th></th>\n",
       "      <th>ESCENARIO</th>\n",
       "      <th>Façade</th>\n",
       "      <th>Huecos (Uglass)</th>\n",
       "      <th>Windows (SHGC)</th>\n",
       "      <th>Windows (Transmisión de luz)</th>\n",
       "      <th>Infiltration</th>\n",
       "    </tr>\n",
       "  </thead>\n",
       "  <tbody>\n",
       "    <tr>\n",
       "      <th>0</th>\n",
       "      <td>0,0,0,0</td>\n",
       "      <td>0.000</td>\n",
       "      <td>3.41</td>\n",
       "      <td>0.781</td>\n",
       "      <td>0.801</td>\n",
       "      <td>0.61</td>\n",
       "    </tr>\n",
       "    <tr>\n",
       "      <th>1</th>\n",
       "      <td>1.0.0.0.</td>\n",
       "      <td>0.042</td>\n",
       "      <td>3.42</td>\n",
       "      <td>0.782</td>\n",
       "      <td>0.802</td>\n",
       "      <td>0.62</td>\n",
       "    </tr>\n",
       "    <tr>\n",
       "      <th>2</th>\n",
       "      <td>1.1.1.0.</td>\n",
       "      <td>0.043</td>\n",
       "      <td>3.43</td>\n",
       "      <td>0.693</td>\n",
       "      <td>0.803</td>\n",
       "      <td>0.63</td>\n",
       "    </tr>\n",
       "  </tbody>\n",
       "</table>\n",
       "</div>"
      ],
      "text/plain": [
       "  ESCENARIO  Façade  Huecos (Uglass)  Windows (SHGC)  \\\n",
       "0   0,0,0,0   0.000             3.41           0.781   \n",
       "1  1.0.0.0.   0.042             3.42           0.782   \n",
       "2  1.1.1.0.   0.043             3.43           0.693   \n",
       "\n",
       "   Windows (Transmisión de luz)  Infiltration  \n",
       "0                         0.801          0.61  \n",
       "1                         0.802          0.62  \n",
       "2                         0.803          0.63  "
      ]
     },
     "execution_count": 5,
     "metadata": {},
     "output_type": "execute_result"
    }
   ],
   "source": [
    "import pandas as pd\n",
    "df= pd.read_excel('../data/matrix.xlsx')    \n",
    "df.head()"
   ]
  },
  {
   "cell_type": "markdown",
   "id": "447e7f72",
   "metadata": {},
   "source": [
    "at first we specify exact components that we want to access and change the values"
   ]
  },
  {
   "cell_type": "markdown",
   "id": "8683f66e",
   "metadata": {},
   "source": [
    "Check the length of the elements in the newely created wariable to know which i-th object's variable (i.e. correspondent parameter of the i-th element in a list) must be changed"
   ]
  },
  {
   "cell_type": "code",
   "execution_count": 6,
   "id": "ec4c30c5",
   "metadata": {},
   "outputs": [],
   "source": [
    "facade_material = idf1.idfobjects[\"MATERIAL\"] # we want tj change EPS Expanded Polystyrene thickness in Facade\n",
    "construction_material = idf1.idfobjects[\"Construction\"][6]#not clear!\n",
    "window_material = idf1.idfobjects['WindowMaterial:SimpleGlazingSystem'] # ti change Uvalue, SHGC, Transmisión de luz)"
   ]
  },
  {
   "cell_type": "markdown",
   "id": "72f2c58a",
   "metadata": {},
   "source": [
    "Check the selected element"
   ]
  },
  {
   "cell_type": "code",
   "execution_count": 7,
   "id": "2749d450",
   "metadata": {},
   "outputs": [
    {
     "name": "stdout",
     "output_type": "stream",
     "text": [
      "\n",
      "Material,\n",
      "    EPS Expanded Polystyrene (Standard)_O1234,    !- Name\n",
      "    Rough,                    !- Roughness\n",
      "    0.1234,                   !- Thickness\n",
      "    0.04,                     !- Conductivity\n",
      "    15,                       !- Density\n",
      "    1400,                     !- Specific Heat\n",
      "    0.9,                      !- Thermal Absorptance\n",
      "    0.6,                      !- Solar Absorptance\n",
      "    0.6;                      !- Visible Absorptance\n",
      "\n",
      "\n",
      "WindowMaterial:SimpleGlazingSystem,\n",
      "    Simple 1001,              !- Name\n",
      "    1.96,                     !- UFactor\n",
      "    0.691,                    !- Solar Heat Gain Coefficient\n",
      "    0.744;                    !- Visible Transmittance\n",
      "\n"
     ]
    }
   ],
   "source": [
    "print (facade_material[11])\n",
    "print (window_material[0])"
   ]
  },
  {
   "cell_type": "markdown",
   "id": "e6201dcb",
   "metadata": {},
   "source": [
    "Iteration"
   ]
  },
  {
   "cell_type": "code",
   "execution_count": 8,
   "id": "57e7c65b",
   "metadata": {},
   "outputs": [
    {
     "name": "stdout",
     "output_type": "stream",
     "text": [
      "\n",
      "Material,\n",
      "    EPS Expanded Polystyrene (Standard)_O1234,    !- Name\n",
      "    Rough,                    !- Roughness\n",
      "    0,                        !- Thickness\n",
      "    0.04,                     !- Conductivity\n",
      "    15,                       !- Density\n",
      "    1400,                     !- Specific Heat\n",
      "    0.9,                      !- Thermal Absorptance\n",
      "    0.6,                      !- Solar Absorptance\n",
      "    0.6;                      !- Visible Absorptance\n",
      "\n",
      "\n",
      "Material,\n",
      "    EPS Expanded Polystyrene (Standard)_O1234,    !- Name\n",
      "    Rough,                    !- Roughness\n",
      "    0.042,                    !- Thickness\n",
      "    0.04,                     !- Conductivity\n",
      "    15,                       !- Density\n",
      "    1400,                     !- Specific Heat\n",
      "    0.9,                      !- Thermal Absorptance\n",
      "    0.6,                      !- Solar Absorptance\n",
      "    0.6;                      !- Visible Absorptance\n",
      "\n",
      "\n",
      "Material,\n",
      "    EPS Expanded Polystyrene (Standard)_O1234,    !- Name\n",
      "    Rough,                    !- Roughness\n",
      "    0.043,                    !- Thickness\n",
      "    0.04,                     !- Conductivity\n",
      "    15,                       !- Density\n",
      "    1400,                     !- Specific Heat\n",
      "    0.9,                      !- Thermal Absorptance\n",
      "    0.6,                      !- Solar Absorptance\n",
      "    0.6;                      !- Visible Absorptance\n",
      "\n"
     ]
    }
   ],
   "source": [
    "for i in df['Façade']:\n",
    "    facade_material[11].Thickness=i\n",
    "    print (facade_material[11])\n",
    "#[facade_material.Thickness=i for i in df['Façade']]"
   ]
  },
  {
   "cell_type": "markdown",
   "id": "da750711",
   "metadata": {},
   "source": [
    "How to iterate through an oblect and change necesarry parameters in one iteration (i.e. correspondednt raw of the Dataframe table inserted into the proper name of the parameter)"
   ]
  },
  {
   "cell_type": "code",
   "execution_count": 9,
   "id": "ebdab129",
   "metadata": {
    "scrolled": true
   },
   "outputs": [
    {
     "name": "stdout",
     "output_type": "stream",
     "text": [
      "\n",
      "WindowMaterial:SimpleGlazingSystem,\n",
      "    Simple 1001,              !- Name\n",
      "    3.41,                     !- UFactor\n",
      "    0.781,                    !- Solar Heat Gain Coefficient\n",
      "    0.801;                    !- Visible Transmittance\n",
      "\n",
      "\n",
      "WindowMaterial:SimpleGlazingSystem,\n",
      "    Simple 1001,              !- Name\n",
      "    3.42,                     !- UFactor\n",
      "    0.782,                    !- Solar Heat Gain Coefficient\n",
      "    0.802;                    !- Visible Transmittance\n",
      "\n",
      "\n",
      "WindowMaterial:SimpleGlazingSystem,\n",
      "    Simple 1001,              !- Name\n",
      "    3.43,                     !- UFactor\n",
      "    0.693,                    !- Solar Heat Gain Coefficient\n",
      "    0.803;                    !- Visible Transmittance\n",
      "\n"
     ]
    }
   ],
   "source": [
    "\"\"\"# also  enumerate()  function does sort of the same for python lists \n",
    "    for count, value in enumerate(values):\n",
    "         print(count, value) \"\"\"\n",
    "for index, row in df.iterrows(): \n",
    "    window_material[0].UFactor= row['Huecos (Uglass)']\n",
    "    window_material[0].Solar_Heat_Gain_Coefficient = row['Windows (SHGC)']\n",
    "    window_material[0].Visible_Transmittance = row['Windows (Transmisión de luz)']\n",
    "    print (window_material[0])\n",
    "    # iterating through parameters, their change and saving as corresponding file name fom DataFrame cell\n",
    "    idf1.saveas('../data/{}.idf'. format(row['ESCENARIO']))"
   ]
  },
  {
   "cell_type": "markdown",
   "id": "1c93e385",
   "metadata": {},
   "source": [
    "Saving an idf file"
   ]
  },
  {
   "cell_type": "code",
   "execution_count": 10,
   "id": "1e486fff",
   "metadata": {},
   "outputs": [],
   "source": [
    "#idf1.save() #save (to current)\n",
    "#idf1.saveas('something.idf') # save as "
   ]
  },
  {
   "cell_type": "markdown",
   "id": "90c79b54",
   "metadata": {},
   "source": [
    "How to find \"Infiltrarion\"?\n",
    "\n",
    "It could be a *ZoneInfiltration:DesignFlowRate*, with the parameter named  !- Design Volume Flow Rate (m3/s).\n",
    "However, the units there are m3/s while input in the Desigh bulder was made as ac/h.\n",
    "Must be checked "
   ]
  },
  {
   "cell_type": "markdown",
   "id": "4a168c7b",
   "metadata": {},
   "source": [
    "## Task 2\n",
    "Running EnergyPlus from Eppy"
   ]
  },
  {
   "cell_type": "markdown",
   "id": "92cd04a3",
   "metadata": {},
   "source": [
    "**Check range for fields**\n",
    "The fields of idf objects often have a range of legal values. The following functions will let you discover what that range is and test if your value lies within that range\n",
    "\n",
    "demonstrate two new functions:\n",
    "\n",
    "EpBunch.getrange(fieldname) # will return the ranges for that field\n",
    "EpBunch.checkrange(fieldname) # will throw an exception if the value is outside the rang"
   ]
  },
  {
   "cell_type": "code",
   "execution_count": 17,
   "id": "5a19dfa3",
   "metadata": {},
   "outputs": [],
   "source": [
    "idfname = \"C:/Users/Oleksandr-MSI/Documentos/GitHub/IDF_managemant_eppyLib/data/\"\n",
    "epwfile = \"C:\\EnergyPlusV8-9-0\\WeatherData\"\n",
    "#output_directory=\"C:/Users/Oleksandr-MSI/Documentos/GitHub/IDF_managemant_eppyLib/data/\"\n",
    "\n",
    "#help(idf1.run)"
   ]
  },
  {
   "cell_type": "code",
   "execution_count": 18,
   "id": "2ff40590",
   "metadata": {},
   "outputs": [
    {
     "ename": "PermissionError",
     "evalue": "[Errno 13] Permission denied: 'C:/Users/Oleksandr-MSI/Documentos/GitHub/IDF_managemant_eppyLib/data/'",
     "output_type": "error",
     "traceback": [
      "\u001b[1;31m---------------------------------------------------------------------------\u001b[0m",
      "\u001b[1;31mPermissionError\u001b[0m                           Traceback (most recent call last)",
      "\u001b[1;32m<ipython-input-18-5a0e05ff4ef0>\u001b[0m in \u001b[0;36m<module>\u001b[1;34m\u001b[0m\n\u001b[1;32m----> 1\u001b[1;33m \u001b[0midf\u001b[0m \u001b[1;33m=\u001b[0m \u001b[0mIDF\u001b[0m\u001b[1;33m(\u001b[0m\u001b[0midfname\u001b[0m\u001b[1;33m,\u001b[0m \u001b[0mepwfile\u001b[0m\u001b[1;33m)\u001b[0m\u001b[1;33m\u001b[0m\u001b[1;33m\u001b[0m\u001b[0m\n\u001b[0m\u001b[0;32m      2\u001b[0m \u001b[0midf\u001b[0m\u001b[1;33m.\u001b[0m\u001b[0mrun\u001b[0m\u001b[1;33m(\u001b[0m\u001b[1;33m)\u001b[0m\u001b[1;33m\u001b[0m\u001b[1;33m\u001b[0m\u001b[0m\n",
      "\u001b[1;32m~\\anaconda3\\lib\\site-packages\\eppy\\modeleditor.py\u001b[0m in \u001b[0;36m__init__\u001b[1;34m(self, idfname, epw)\u001b[0m\n\u001b[0;32m    546\u001b[0m         \u001b[1;32mif\u001b[0m \u001b[0midfname\u001b[0m \u001b[1;33m!=\u001b[0m \u001b[1;32mNone\u001b[0m\u001b[1;33m:\u001b[0m\u001b[1;33m\u001b[0m\u001b[1;33m\u001b[0m\u001b[0m\n\u001b[0;32m    547\u001b[0m             \u001b[0mself\u001b[0m\u001b[1;33m.\u001b[0m\u001b[0midfname\u001b[0m \u001b[1;33m=\u001b[0m \u001b[0midfname\u001b[0m\u001b[1;33m\u001b[0m\u001b[1;33m\u001b[0m\u001b[0m\n\u001b[1;32m--> 548\u001b[1;33m             \u001b[0mself\u001b[0m\u001b[1;33m.\u001b[0m\u001b[0mread\u001b[0m\u001b[1;33m(\u001b[0m\u001b[1;33m)\u001b[0m\u001b[1;33m\u001b[0m\u001b[1;33m\u001b[0m\u001b[0m\n\u001b[0m\u001b[0;32m    549\u001b[0m         \u001b[1;32mif\u001b[0m \u001b[0mepw\u001b[0m \u001b[1;33m!=\u001b[0m \u001b[1;32mNone\u001b[0m\u001b[1;33m:\u001b[0m\u001b[1;33m\u001b[0m\u001b[1;33m\u001b[0m\u001b[0m\n\u001b[0;32m    550\u001b[0m             \u001b[0mself\u001b[0m\u001b[1;33m.\u001b[0m\u001b[0mepw\u001b[0m \u001b[1;33m=\u001b[0m \u001b[0mepw\u001b[0m\u001b[1;33m\u001b[0m\u001b[1;33m\u001b[0m\u001b[0m\n",
      "\u001b[1;32m~\\anaconda3\\lib\\site-packages\\eppy\\modeleditor.py\u001b[0m in \u001b[0;36mread\u001b[1;34m(self)\u001b[0m\n\u001b[0;32m    670\u001b[0m             )\n\u001b[0;32m    671\u001b[0m             \u001b[1;32mraise\u001b[0m \u001b[0mIDDNotSetError\u001b[0m\u001b[1;33m(\u001b[0m\u001b[0merrortxt\u001b[0m\u001b[1;33m)\u001b[0m\u001b[1;33m\u001b[0m\u001b[1;33m\u001b[0m\u001b[0m\n\u001b[1;32m--> 672\u001b[1;33m         readout = idfreader1(\n\u001b[0m\u001b[0;32m    673\u001b[0m             \u001b[0mself\u001b[0m\u001b[1;33m.\u001b[0m\u001b[0midfname\u001b[0m\u001b[1;33m,\u001b[0m \u001b[0mself\u001b[0m\u001b[1;33m.\u001b[0m\u001b[0middname\u001b[0m\u001b[1;33m,\u001b[0m \u001b[0mself\u001b[0m\u001b[1;33m,\u001b[0m \u001b[0mcommdct\u001b[0m\u001b[1;33m=\u001b[0m\u001b[0mself\u001b[0m\u001b[1;33m.\u001b[0m\u001b[0midd_info\u001b[0m\u001b[1;33m,\u001b[0m \u001b[0mblock\u001b[0m\u001b[1;33m=\u001b[0m\u001b[0mself\u001b[0m\u001b[1;33m.\u001b[0m\u001b[0mblock\u001b[0m\u001b[1;33m\u001b[0m\u001b[1;33m\u001b[0m\u001b[0m\n\u001b[0;32m    674\u001b[0m         )\n",
      "\u001b[1;32m~\\anaconda3\\lib\\site-packages\\eppy\\idfreader.py\u001b[0m in \u001b[0;36midfreader1\u001b[1;34m(fname, iddfile, theidf, conv, commdct, block)\u001b[0m\n\u001b[0;32m    291\u001b[0m     \u001b[0mversiontuple\u001b[0m \u001b[1;33m=\u001b[0m \u001b[0middversiontuple\u001b[0m\u001b[1;33m(\u001b[0m\u001b[0middfile\u001b[0m\u001b[1;33m)\u001b[0m\u001b[1;33m\u001b[0m\u001b[1;33m\u001b[0m\u001b[0m\n\u001b[0;32m    292\u001b[0m     \u001b[1;31m# import pdb; pdb.set_trace()\u001b[0m\u001b[1;33m\u001b[0m\u001b[1;33m\u001b[0m\u001b[1;33m\u001b[0m\u001b[0m\n\u001b[1;32m--> 293\u001b[1;33m     block, data, commdct, idd_index = readidf.readdatacommdct1(\n\u001b[0m\u001b[0;32m    294\u001b[0m         \u001b[0mfname\u001b[0m\u001b[1;33m,\u001b[0m \u001b[0middfile\u001b[0m\u001b[1;33m=\u001b[0m\u001b[0middfile\u001b[0m\u001b[1;33m,\u001b[0m \u001b[0mcommdct\u001b[0m\u001b[1;33m=\u001b[0m\u001b[0mcommdct\u001b[0m\u001b[1;33m,\u001b[0m \u001b[0mblock\u001b[0m\u001b[1;33m=\u001b[0m\u001b[0mblock\u001b[0m\u001b[1;33m\u001b[0m\u001b[1;33m\u001b[0m\u001b[0m\n\u001b[0;32m    295\u001b[0m     )\n",
      "\u001b[1;32m~\\anaconda3\\lib\\site-packages\\eppy\\EPlusInterfaceFunctions\\readidf.py\u001b[0m in \u001b[0;36mreaddatacommdct1\u001b[1;34m(idfname, iddfile, commdct, block)\u001b[0m\n\u001b[0;32m     91\u001b[0m         \u001b[0mtheidd\u001b[0m \u001b[1;33m=\u001b[0m \u001b[0meplusdata\u001b[0m\u001b[1;33m.\u001b[0m\u001b[0mIdd\u001b[0m\u001b[1;33m(\u001b[0m\u001b[0mblock\u001b[0m\u001b[1;33m,\u001b[0m \u001b[1;36m2\u001b[0m\u001b[1;33m)\u001b[0m\u001b[1;33m\u001b[0m\u001b[1;33m\u001b[0m\u001b[0m\n\u001b[0;32m     92\u001b[0m         \u001b[0midd_index\u001b[0m \u001b[1;33m=\u001b[0m \u001b[1;33m{\u001b[0m\u001b[1;33m}\u001b[0m  \u001b[1;31m# it should not get here :-(\u001b[0m\u001b[1;33m\u001b[0m\u001b[1;33m\u001b[0m\u001b[0m\n\u001b[1;32m---> 93\u001b[1;33m     \u001b[0mdata\u001b[0m \u001b[1;33m=\u001b[0m \u001b[0meplusdata\u001b[0m\u001b[1;33m.\u001b[0m\u001b[0mEplusdata\u001b[0m\u001b[1;33m(\u001b[0m\u001b[0mtheidd\u001b[0m\u001b[1;33m,\u001b[0m \u001b[0midfname\u001b[0m\u001b[1;33m)\u001b[0m\u001b[1;33m\u001b[0m\u001b[1;33m\u001b[0m\u001b[0m\n\u001b[0m\u001b[0;32m     94\u001b[0m     \u001b[1;32mreturn\u001b[0m \u001b[0mblock\u001b[0m\u001b[1;33m,\u001b[0m \u001b[0mdata\u001b[0m\u001b[1;33m,\u001b[0m \u001b[0mcommdct\u001b[0m\u001b[1;33m,\u001b[0m \u001b[0midd_index\u001b[0m\u001b[1;33m\u001b[0m\u001b[1;33m\u001b[0m\u001b[0m\n",
      "\u001b[1;32m~\\anaconda3\\lib\\site-packages\\eppy\\EPlusInterfaceFunctions\\eplusdata.py\u001b[0m in \u001b[0;36m__init__\u001b[1;34m(self, dictfile, fname)\u001b[0m\n\u001b[0;32m    103\u001b[0m             \u001b[0mself\u001b[0m\u001b[1;33m.\u001b[0m\u001b[0mmakedict\u001b[0m\u001b[1;33m(\u001b[0m\u001b[0mdictfile\u001b[0m\u001b[1;33m,\u001b[0m \u001b[0mfnamefobject\u001b[0m\u001b[1;33m)\u001b[0m\u001b[1;33m\u001b[0m\u001b[1;33m\u001b[0m\u001b[0m\n\u001b[0;32m    104\u001b[0m         \u001b[1;32mif\u001b[0m \u001b[0misinstance\u001b[0m\u001b[1;33m(\u001b[0m\u001b[0mfname\u001b[0m\u001b[1;33m,\u001b[0m \u001b[0mstr\u001b[0m\u001b[1;33m)\u001b[0m \u001b[1;32mand\u001b[0m \u001b[0misinstance\u001b[0m\u001b[1;33m(\u001b[0m\u001b[0mdictfile\u001b[0m\u001b[1;33m,\u001b[0m \u001b[0mIdd\u001b[0m\u001b[1;33m)\u001b[0m\u001b[1;33m:\u001b[0m\u001b[1;33m\u001b[0m\u001b[1;33m\u001b[0m\u001b[0m\n\u001b[1;32m--> 105\u001b[1;33m             \u001b[0mfnamefobject\u001b[0m \u001b[1;33m=\u001b[0m \u001b[0mopen\u001b[0m\u001b[1;33m(\u001b[0m\u001b[0mfname\u001b[0m\u001b[1;33m,\u001b[0m \u001b[1;34m\"rb\"\u001b[0m\u001b[1;33m)\u001b[0m\u001b[1;33m\u001b[0m\u001b[1;33m\u001b[0m\u001b[0m\n\u001b[0m\u001b[0;32m    106\u001b[0m             \u001b[0mself\u001b[0m\u001b[1;33m.\u001b[0m\u001b[0mmakedict\u001b[0m\u001b[1;33m(\u001b[0m\u001b[0mdictfile\u001b[0m\u001b[1;33m,\u001b[0m \u001b[0mfnamefobject\u001b[0m\u001b[1;33m)\u001b[0m\u001b[1;33m\u001b[0m\u001b[1;33m\u001b[0m\u001b[0m\n\u001b[0;32m    107\u001b[0m         \u001b[1;32mtry\u001b[0m\u001b[1;33m:\u001b[0m\u001b[1;33m\u001b[0m\u001b[1;33m\u001b[0m\u001b[0m\n",
      "\u001b[1;31mPermissionError\u001b[0m: [Errno 13] Permission denied: 'C:/Users/Oleksandr-MSI/Documentos/GitHub/IDF_managemant_eppyLib/data/'"
     ]
    }
   ],
   "source": [
    "idf = IDF(idfname, epwfile)\n",
    "idf.run()"
   ]
  },
  {
   "cell_type": "code",
   "execution_count": null,
   "id": "bebc1cd3",
   "metadata": {},
   "outputs": [],
   "source": []
  }
 ],
 "metadata": {
  "kernelspec": {
   "display_name": "Python 3",
   "language": "python",
   "name": "python3"
  },
  "language_info": {
   "codemirror_mode": {
    "name": "ipython",
    "version": 3
   },
   "file_extension": ".py",
   "mimetype": "text/x-python",
   "name": "python",
   "nbconvert_exporter": "python",
   "pygments_lexer": "ipython3",
   "version": "3.8.8"
  }
 },
 "nbformat": 4,
 "nbformat_minor": 5
}
